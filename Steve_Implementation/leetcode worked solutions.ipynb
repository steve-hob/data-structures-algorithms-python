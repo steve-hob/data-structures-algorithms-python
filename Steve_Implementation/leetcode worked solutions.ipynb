{
 "cells": [
  {
   "cell_type": "code",
   "execution_count": 1,
   "metadata": {},
   "outputs": [],
   "source": [
    "### Leetcode 217\n",
    "\n",
    "class Solution(object):\n",
    "    def containsDuplicate(self, nums):\n",
    "        \"\"\"\n",
    "        :type nums: List[int]\n",
    "        :rtype: bool\n",
    "        \"\"\"\n",
    "        if len(set(nums)) != len(nums):\n",
    "            return True\n",
    "        else:\n",
    "            return False"
   ]
  },
  {
   "cell_type": "code",
   "execution_count": 13,
   "metadata": {},
   "outputs": [],
   "source": [
    "### Leetcode 242\n",
    "\n",
    "class Solution(object):\n",
    "    def isAnagram(self, s, t):\n",
    "        \"\"\"\n",
    "        :type s: str\n",
    "        :type t: str\n",
    "        :rtype: bool\n",
    "        \"\"\"\n",
    "        \n",
    "        # phase 1\n",
    "        # a = {i:s.count(i) for i in sorted(s)}\n",
    "        # b = {i:t.count(i) for i in sorted(t)}\n",
    "\n",
    "        # phase 2\n",
    "        if sorted(s) == sorted(t): return True\n",
    "        else: False"
   ]
  },
  {
   "cell_type": "code",
   "execution_count": 14,
   "metadata": {},
   "outputs": [],
   "source": [
    "### Leetcode 1\n",
    "\n",
    "class Solution(object):\n",
    "    def twoSum(self, nums, target):\n",
    "        \"\"\"\n",
    "        :type nums: List[int]\n",
    "        :type target: int\n",
    "        :rtype: List[int]\n",
    "        \"\"\"\n",
    "        \n",
    "        a = 0\n",
    "        b = 1\n",
    "        while nums[a] + nums[b] != target:\n",
    "            b += 1\n",
    "\n",
    "            ### how to optimize this bit?????\n",
    "            if b == len(nums):\n",
    "                a += 1\n",
    "                b = a + 1\n",
    "\n",
    "        return [a,b]"
   ]
  },
  {
   "cell_type": "code",
   "execution_count": 49,
   "metadata": {},
   "outputs": [
    {
     "data": {
      "text/plain": [
       "[['tan', 'nat'], ['eat', 'tea', 'ate'], ['bat']]"
      ]
     },
     "execution_count": 49,
     "metadata": {},
     "output_type": "execute_result"
    }
   ],
   "source": [
    "### Leetcode 49\n",
    "\n",
    "class Solution(object):\n",
    "    def groupAnagrams(self, strs):\n",
    "        \"\"\"\n",
    "        :type strs: List[str]\n",
    "        :rtype: List[List[str]]\n",
    "        \"\"\" \n",
    "\n",
    "        hash = {j:[] for j in set([''.join(sorted(i)) for i in strs])}\n",
    "\n",
    "        for i in strs:\n",
    "            hash[''.join(sorted(i))].append(i)\n",
    "\n",
    "        return list(hash.values())\n"
   ]
  },
  {
   "cell_type": "code",
   "execution_count": 122,
   "metadata": {},
   "outputs": [
    {
     "name": "stdout",
     "output_type": "stream",
     "text": [
      "{0: [], 1: []}\n"
     ]
    },
    {
     "data": {
      "text/plain": [
       "[1]"
      ]
     },
     "execution_count": 122,
     "metadata": {},
     "output_type": "execute_result"
    }
   ],
   "source": [
    "### LEETCODE 347\n",
    "\n",
    "### the optimal solution would have first count each element\n",
    "### then flip the count and the key\n",
    "### this solution does the other way around, which gets the elem from nums\n",
    "### based on how many times it had appeared.\n",
    "### very slow and expensive\n",
    "\n",
    "nums = [1] #4, -1\n",
    "k = 2\n",
    "\n",
    "hash = {i:[] for i in range(len(nums)+1)}\n",
    "print(hash)\n",
    "for i in set(nums):\n",
    "    hash[nums.count(i)] += [i]\n",
    "\n",
    "L = []\n",
    "for i in list(hash.values()):\n",
    "    L += i\n",
    "L[-k:]"
   ]
  }
 ],
 "metadata": {
  "kernelspec": {
   "display_name": "Python 3.9.6 64-bit",
   "language": "python",
   "name": "python3"
  },
  "language_info": {
   "codemirror_mode": {
    "name": "ipython",
    "version": 3
   },
   "file_extension": ".py",
   "mimetype": "text/x-python",
   "name": "python",
   "nbconvert_exporter": "python",
   "pygments_lexer": "ipython3",
   "version": "3.9.6"
  },
  "vscode": {
   "interpreter": {
    "hash": "31f2aee4e71d21fbe5cf8b01ff0e069b9275f58929596ceb00d14d90e3e16cd6"
   }
  }
 },
 "nbformat": 4,
 "nbformat_minor": 2
}
