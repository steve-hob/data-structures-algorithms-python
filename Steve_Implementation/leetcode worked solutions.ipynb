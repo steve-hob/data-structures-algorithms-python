{
 "cells": [
  {
   "cell_type": "code",
   "execution_count": 1,
   "metadata": {},
   "outputs": [],
   "source": [
    "### Leetcode 217\n",
    "\n",
    "class Solution(object):\n",
    "    def containsDuplicate(self, nums):\n",
    "        \"\"\"\n",
    "        :type nums: List[int]\n",
    "        :rtype: bool\n",
    "        \"\"\"\n",
    "        if len(set(nums)) != len(nums):\n",
    "            return True\n",
    "        else:\n",
    "            return False"
   ]
  },
  {
   "cell_type": "code",
   "execution_count": 13,
   "metadata": {},
   "outputs": [],
   "source": [
    "### Leetcode 242\n",
    "\n",
    "class Solution(object):\n",
    "    def isAnagram(self, s, t):\n",
    "        \"\"\"\n",
    "        :type s: str\n",
    "        :type t: str\n",
    "        :rtype: bool\n",
    "        \"\"\"\n",
    "        \n",
    "        # phase 1\n",
    "        # a = {i:s.count(i) for i in sorted(s)}\n",
    "        # b = {i:t.count(i) for i in sorted(t)}\n",
    "\n",
    "        # phase 2\n",
    "        if sorted(s) == sorted(t): return True\n",
    "        else: False"
   ]
  },
  {
   "cell_type": "code",
   "execution_count": 14,
   "metadata": {},
   "outputs": [],
   "source": [
    "### Leetcode 1\n",
    "\n",
    "class Solution(object):\n",
    "    def twoSum(self, nums, target):\n",
    "        \"\"\"\n",
    "        :type nums: List[int]\n",
    "        :type target: int\n",
    "        :rtype: List[int]\n",
    "        \"\"\"\n",
    "        \n",
    "        a = 0\n",
    "        b = 1\n",
    "        while nums[a] + nums[b] != target:\n",
    "            b += 1\n",
    "\n",
    "            ### how to optimize this bit?????\n",
    "            if b == len(nums):\n",
    "                a += 1\n",
    "                b = a + 1\n",
    "\n",
    "        return [a,b]"
   ]
  },
  {
   "cell_type": "code",
   "execution_count": 1,
   "metadata": {},
   "outputs": [
    {
     "data": {
      "text/plain": [
       "[['tea', 'ate', 'tan'], ['ate'], ['nat'], ['bat']]"
      ]
     },
     "execution_count": 1,
     "metadata": {},
     "output_type": "execute_result"
    }
   ],
   "source": [
    "### Leetcode 49\n",
    "\n",
    "strs = [\"eat\",\"tea\",\"tan\",\"ate\",\"nat\",\"bat\"]\n",
    "\n",
    "l = []\n",
    "ll = []\n",
    "a = 0\n",
    "b = a + 1\n",
    "while a != len(strs):\n",
    "    if a == len(strs) - 1:\n",
    "        ll.append([strs[a]])\n",
    "        break\n",
    "\n",
    "    elif sorted(strs[a]) == sorted(strs[b]):\n",
    "        l.append(strs[b])\n",
    "        strs.remove(strs[a])\n",
    "\n",
    "    b += 1\n",
    "\n",
    "    if b == len(strs):\n",
    "        l.append(strs[a])\n",
    "        ll.append(l)\n",
    "        l = []\n",
    "\n",
    "        a += 1\n",
    "        b = a + 1\n",
    "\n",
    "ll\n",
    "\n",
    "    "
   ]
  }
 ],
 "metadata": {
  "kernelspec": {
   "display_name": "Python 3.9.6 64-bit",
   "language": "python",
   "name": "python3"
  },
  "language_info": {
   "codemirror_mode": {
    "name": "ipython",
    "version": 3
   },
   "file_extension": ".py",
   "mimetype": "text/x-python",
   "name": "python",
   "nbconvert_exporter": "python",
   "pygments_lexer": "ipython3",
   "version": "3.9.6"
  },
  "vscode": {
   "interpreter": {
    "hash": "31f2aee4e71d21fbe5cf8b01ff0e069b9275f58929596ceb00d14d90e3e16cd6"
   }
  }
 },
 "nbformat": 4,
 "nbformat_minor": 2
}
