{
 "cells": [
  {
   "cell_type": "code",
   "execution_count": 1,
   "metadata": {},
   "outputs": [],
   "source": [
    "### Leetcode 217\n",
    "\n",
    "class Solution(object):\n",
    "    def containsDuplicate(self, nums):\n",
    "        \"\"\"\n",
    "        :type nums: List[int]\n",
    "        :rtype: bool\n",
    "        \"\"\"\n",
    "        if len(set(nums)) != len(nums):\n",
    "            return True\n",
    "        else:\n",
    "            return False"
   ]
  },
  {
   "cell_type": "code",
   "execution_count": 13,
   "metadata": {},
   "outputs": [],
   "source": [
    "### Leetcode 242\n",
    "\n",
    "class Solution(object):\n",
    "    def isAnagram(self, s, t):\n",
    "        \"\"\"\n",
    "        :type s: str\n",
    "        :type t: str\n",
    "        :rtype: bool\n",
    "        \"\"\"\n",
    "        \n",
    "        # phase 1\n",
    "        # a = {i:s.count(i) for i in sorted(s)}\n",
    "        # b = {i:t.count(i) for i in sorted(t)}\n",
    "\n",
    "        # phase 2\n",
    "        if sorted(s) == sorted(t): return True\n",
    "        else: False"
   ]
  },
  {
   "cell_type": "code",
   "execution_count": 14,
   "metadata": {},
   "outputs": [],
   "source": [
    "### Leetcode 1\n",
    "\n",
    "class Solution(object):\n",
    "    def twoSum(self, nums, target):\n",
    "        \"\"\"\n",
    "        :type nums: List[int]\n",
    "        :type target: int\n",
    "        :rtype: List[int]\n",
    "        \"\"\"\n",
    "        \n",
    "        a = 0\n",
    "        b = 1\n",
    "        while nums[a] + nums[b] != target:\n",
    "            b += 1\n",
    "\n",
    "            ### how to optimize this bit?????\n",
    "            if b == len(nums):\n",
    "                a += 1\n",
    "                b = a + 1\n",
    "\n",
    "        return [a,b]"
   ]
  },
  {
   "cell_type": "code",
   "execution_count": 49,
   "metadata": {},
   "outputs": [
    {
     "data": {
      "text/plain": [
       "[['tan', 'nat'], ['eat', 'tea', 'ate'], ['bat']]"
      ]
     },
     "execution_count": 49,
     "metadata": {},
     "output_type": "execute_result"
    }
   ],
   "source": [
    "### Leetcode 49\n",
    "\n",
    "class Solution(object):\n",
    "    def groupAnagrams(self, strs):\n",
    "        \"\"\"\n",
    "        :type strs: List[str]\n",
    "        :rtype: List[List[str]]\n",
    "        \"\"\" \n",
    "\n",
    "        hash = {j:[] for j in set([''.join(sorted(i)) for i in strs])}\n",
    "\n",
    "        for i in strs:\n",
    "            hash[''.join(sorted(i))].append(i)\n",
    "\n",
    "        return list(hash.values())\n"
   ]
  },
  {
   "cell_type": "code",
   "execution_count": 122,
   "metadata": {},
   "outputs": [
    {
     "name": "stdout",
     "output_type": "stream",
     "text": [
      "{0: [], 1: []}\n"
     ]
    },
    {
     "data": {
      "text/plain": [
       "[1]"
      ]
     },
     "execution_count": 122,
     "metadata": {},
     "output_type": "execute_result"
    }
   ],
   "source": [
    "### LEETCODE 347\n",
    "\n",
    "### the optimal solution would have first count each element\n",
    "### then flip the count and the key\n",
    "### this solution does the other way around, which gets the elem from nums\n",
    "### based on how many times it had appeared.\n",
    "### very slow and expensive\n",
    "\n",
    "nums = [1] #4, -1\n",
    "k = 2\n",
    "\n",
    "hash = {i:[] for i in range(len(nums)+1)}\n",
    "print(hash)\n",
    "for i in set(nums):\n",
    "    hash[nums.count(i)] += [i]\n",
    "\n",
    "L = []\n",
    "for i in list(hash.values()):\n",
    "    L += i\n",
    "L[-k:]"
   ]
  },
  {
   "cell_type": "code",
   "execution_count": 182,
   "metadata": {},
   "outputs": [
    {
     "name": "stdout",
     "output_type": "stream",
     "text": [
      "[1, 2, 6, 24, 120]\n",
      "6\n",
      "30\n",
      "120\n",
      "360\n",
      "720\n"
     ]
    },
    {
     "data": {
      "text/plain": [
       "[360, 240, 180, 144, 120]"
      ]
     },
     "execution_count": 182,
     "metadata": {},
     "output_type": "execute_result"
    }
   ],
   "source": [
    "### LEETCODE 238\n",
    "\n",
    "nums = [2,3,4,5,6]\n",
    "\n",
    "a = [1]\n",
    "_a = 1\n",
    "for i in range(len(nums)-1):\n",
    "    _a *= nums[i]\n",
    "    a.append(_a)\n",
    "\n",
    "_b = 1\n",
    "for i in range(len(nums)-1,-1,-1):\n",
    "    a[i] *= _b\n",
    "    _b *= nums[i]\n",
    "\n",
    "print(a)"
   ]
  },
  {
   "cell_type": "code",
   "execution_count": 219,
   "metadata": {},
   "outputs": [
    {
     "name": "stdout",
     "output_type": "stream",
     "text": [
      "2\n"
     ]
    }
   ],
   "source": [
    "### 128\n",
    "\n",
    "nums = [0,-1]\n",
    "nums2 = sorted(nums)\n",
    "\n",
    "if len(nums) == 0:\n",
    "            return 0\n",
    "            \n",
    "else:\n",
    "    nums2 = sorted(nums)\n",
    "\n",
    "    i = 0\n",
    "    k1 = 1\n",
    "    kmax = 0\n",
    "    while i < len(nums2)-1:\n",
    "\n",
    "        if nums2[i]+1 == nums2[i+1]:\n",
    "            k1+=1\n",
    "        \n",
    "        elif nums2[i] == nums2[i+1]:\n",
    "            pass\n",
    "\n",
    "        else:\n",
    "            if k1 > kmax: kmax = k1\n",
    "            k1 = 1\n",
    "\n",
    "        i += 1\n",
    "\n",
    "    if k1 > kmax: kmax = k1\n",
    "    print(kmax)\n"
   ]
  },
  {
   "cell_type": "code",
   "execution_count": 371,
   "metadata": {},
   "outputs": [
    {
     "name": "stdout",
     "output_type": "stream",
     "text": [
      "False\n"
     ]
    }
   ],
   "source": [
    "### LEETCODE 36\n",
    "\n",
    "L = [[\".\",\".\",\".\",\".\",\"5\",\".\",\".\",\"1\",\".\"],[\".\",\"4\",\".\",\"3\",\".\",\".\",\".\",\".\",\".\"],[\".\",\".\",\".\",\".\",\".\",\"3\",\".\",\".\",\"1\"],[\"8\",\".\",\".\",\".\",\".\",\".\",\".\",\"2\",\".\"],[\".\",\".\",\"2\",\".\",\"7\",\".\",\".\",\".\",\".\"],[\".\",\"1\",\"5\",\".\",\".\",\".\",\".\",\".\",\".\"],[\".\",\".\",\".\",\".\",\".\",\"2\",\".\",\".\",\".\"],[\".\",\"2\",\".\",\"9\",\".\",\".\",\".\",\".\",\".\"],[\".\",\".\",\"4\",\".\",\".\",\".\",\".\",\".\",\".\"]]\n",
    "# L = [[\"5\",\"3\",\".\",\".\",\"7\",\".\",\".\",\".\",\".\"],[\"6\",\".\",\".\",\"1\",\"9\",\"5\",\".\",\".\",\".\"],[\".\",\"9\",\"8\",\".\",\".\",\".\",\".\",\"6\",\".\"],[\"8\",\".\",\".\",\".\",\"6\",\".\",\".\",\".\",\"3\"],[\"4\",\".\",\".\",\"8\",\".\",\"3\",\".\",\".\",\"1\"],[\"7\",\".\",\".\",\".\",\"2\",\".\",\".\",\".\",\"6\"],[\".\",\"6\",\".\",\".\",\".\",\".\",\"2\",\"8\",\".\"],[\".\",\".\",\".\",\"4\",\"1\",\"9\",\".\",\".\",\"5\"],[\".\",\".\",\".\",\".\",\"8\",\".\",\".\",\"7\",\"9\"]]\n",
    "\n",
    "L_T = [[L[j][i] for j in range(len(L))] for i in range(len(L[0]))]\n",
    "ref = [2,5,8]\n",
    "\n",
    "\n",
    "status = True\n",
    "prefix_count = 0\n",
    "for i in range(len(L)):\n",
    "    row_ = L[i][0: i+8-prefix_count+1]\n",
    "    col_ = L_T[i][i-prefix_count : i+8-prefix_count+1]\n",
    "\n",
    "    if i in ref:\n",
    "        grid_step = 0\n",
    "\n",
    "        while grid_step <= ref.index(i):\n",
    "    \n",
    "                grid_up = L[i-2-grid_step*3][i-2:i+1] + \\\n",
    "                          L[i-1-grid_step*3][i-2:i+1] + \\\n",
    "                          L[i-grid_step*3][i-2:i+1]\n",
    "\n",
    "                grid_lf = L_T[i-2-grid_step*3][i-2:i+1] + \\\n",
    "                          L_T[i-1-grid_step*3][i-2:i+1] + \\\n",
    "                          L_T[i-grid_step*3][i-2:i+1]\n",
    "\n",
    "                # grid check\n",
    "                check_up = [grid_up.count(elem) for elem in set(grid_up) if elem != '.']\n",
    "                check_lf = [grid_lf.count(elem) for elem in set(grid_lf) if elem != '.']\n",
    "\n",
    "                if sum(check_up) == len(check_up) and sum(check_lf) == len(check_lf):\n",
    "                        grid_step  += 1\n",
    "                        pass\n",
    "                else:\n",
    "                        # print('grid check failed')\n",
    "                        status = False\n",
    "                        break\n",
    "\n",
    "    check_r = [row_.count(i) for i in set(row_) if i != '.']\n",
    "    check_c = [col_.count(i) for i in set(col_) if i != '.']\n",
    "\n",
    "    if (sum(check_r) == len(check_r)) and (sum(check_c) == len(check_c)):\n",
    "        pass\n",
    "    else:\n",
    "        status =  False\n",
    "        break\n",
    "\n",
    "    prefix_count += 1\n",
    "\n",
    "print(status)"
   ]
  }
 ],
 "metadata": {
  "kernelspec": {
   "display_name": "Python 3.9.6 64-bit",
   "language": "python",
   "name": "python3"
  },
  "language_info": {
   "codemirror_mode": {
    "name": "ipython",
    "version": 3
   },
   "file_extension": ".py",
   "mimetype": "text/x-python",
   "name": "python",
   "nbconvert_exporter": "python",
   "pygments_lexer": "ipython3",
   "version": "3.9.6"
  },
  "vscode": {
   "interpreter": {
    "hash": "31f2aee4e71d21fbe5cf8b01ff0e069b9275f58929596ceb00d14d90e3e16cd6"
   }
  }
 },
 "nbformat": 4,
 "nbformat_minor": 2
}
