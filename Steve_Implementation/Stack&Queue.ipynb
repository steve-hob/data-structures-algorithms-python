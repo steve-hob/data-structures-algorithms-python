{
 "cells": [
  {
   "cell_type": "code",
   "execution_count": 13,
   "metadata": {},
   "outputs": [
    {
     "name": "stdout",
     "output_type": "stream",
     "text": [
      "10\n",
      "12\n",
      "10\n",
      "False\n",
      "True\n"
     ]
    }
   ],
   "source": [
    "from collections import deque\n",
    "\n",
    "class Stack:\n",
    "    def __init__(self):\n",
    "        self.data = deque()\n",
    "    \n",
    "    def push(self,val):\n",
    "        self.data.appendleft(val)\n",
    "\n",
    "    def pop(self):\n",
    "        self.data.popleft()\n",
    "\n",
    "    def peek(self):\n",
    "        return self.data[0]\n",
    "    \n",
    "    def is_empty(self):\n",
    "        if len(self.data) == 0: return True\n",
    "        else: return False\n",
    "\n",
    "    def size(self):\n",
    "        return len(self.data)\n",
    "\n",
    "\n",
    "if __name__ == '__main__':\n",
    "    stack = Stack()\n",
    "\n",
    "    stack.push(10)\n",
    "    print(stack.peek())\n",
    "    stack.push(12)\n",
    "    print(stack.peek())\n",
    "\n",
    "    stack.pop()\n",
    "    print(stack.peek())\n",
    "    print(stack.is_empty())\n",
    "    stack.pop()\n",
    "    print(stack.is_empty())"
   ]
  }
 ],
 "metadata": {
  "kernelspec": {
   "display_name": "Python 3",
   "language": "python",
   "name": "python3"
  },
  "language_info": {
   "codemirror_mode": {
    "name": "ipython",
    "version": 3
   },
   "file_extension": ".py",
   "mimetype": "text/x-python",
   "name": "python",
   "nbconvert_exporter": "python",
   "pygments_lexer": "ipython3",
   "version": "3.10.0"
  },
  "orig_nbformat": 4
 },
 "nbformat": 4,
 "nbformat_minor": 2
}
