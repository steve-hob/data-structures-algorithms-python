{
 "cells": [
  {
   "cell_type": "code",
   "execution_count": 2,
   "metadata": {},
   "outputs": [],
   "source": [
    "class HashTable:\n",
    "    def __init__(self):\n",
    "        self.Idx = 100\n",
    "        self.Data = [None for i in range(self.Idx)]\n",
    "\n",
    "    def HashFunction(self, key):\n",
    "        hash = 0\n",
    "        for i in key:\n",
    "            hash += ord(key)\n",
    "        return hash % self.Idx\n",
    "    \n",
    "    def __getitem__(self, key):\n",
    "        hash = self.HashFunction(key)\n",
    "\n",
    "        return self.Data[hash]\n",
    "    \n",
    "    def __setitem__(self, key, val):\n",
    "        hash = self.HashFunction(key)\n",
    "        self.Data[hash] = val\n",
    "\n",
    "    def __delitem__(self, key):\n",
    "        hash = self.HashFunction(key)\n",
    "        self.Daata[hash] = None\n",
    "\n",
    "if __name__ == '__main__':\n",
    "    ht = HashTable()\n",
    "\n",
    "    ht['1'] = 1"
   ]
  },
  {
   "cell_type": "code",
   "execution_count": 3,
   "metadata": {},
   "outputs": [
    {
     "data": {
      "text/plain": [
       "1"
      ]
     },
     "execution_count": 3,
     "metadata": {},
     "output_type": "execute_result"
    }
   ],
   "source": [
    "ht['1']"
   ]
  }
 ],
 "metadata": {
  "kernelspec": {
   "display_name": "Python 3",
   "language": "python",
   "name": "python3"
  },
  "language_info": {
   "codemirror_mode": {
    "name": "ipython",
    "version": 3
   },
   "file_extension": ".py",
   "mimetype": "text/x-python",
   "name": "python",
   "nbconvert_exporter": "python",
   "pygments_lexer": "ipython3",
   "version": "3.10.0"
  },
  "orig_nbformat": 4
 },
 "nbformat": 4,
 "nbformat_minor": 2
}
